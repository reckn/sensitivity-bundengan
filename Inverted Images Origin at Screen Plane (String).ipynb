{
 "cells": [
  {
   "cell_type": "markdown",
   "metadata": {},
   "source": [
    "## Nomenclature\n",
    "\n",
    "- x: position in x axis of cartesian coordinates\n",
    "- y: position in y axis of cartesian coordinates\n",
    "- z: position in z axis of cartesian coordinates\n",
    "\n",
    "**Abbreviation**\n",
    "- PLO: Point Like Object\n",
    "- sbl: Blue Shadow \"left\" PLO\n",
    "- srl: Red Shadow \"left\" PLO\n",
    "- sbr: Blue Shadow \"right\" PLO\n",
    "- srr: Red Shadow \"right\" PLO\n",
    "- ibl: Blue Image \"left\" PLO\n",
    "- irl: Red Image \"left\" PLO\n",
    "- ibr: Blue Image \"right\" PLO\n",
    "- irr: Red Image \"right\" PLO\n",
    "\n",
    "**Subscript**\n",
    "- lb: blue light\n",
    "- lr: red light\n",
    "- ol: left PLO\n",
    "- or: right PLO\n",
    "- cl: lens centre\n",
    "- p:  sensor plane"
   ]
  },
  {
   "cell_type": "code",
   "execution_count": 49,
   "metadata": {},
   "outputs": [],
   "source": [
    "#Import the libraries\n",
    "from sympy import *\n",
    "from sympy.vector import CoordSys3D\n",
    "\n",
    "#The origin of the system\n",
    "Sys = CoordSys3D('Sys')\n",
    "O = Sys.origin\n",
    "\n",
    "#======================\n",
    "# Define position point\n",
    "#======================\n",
    "\n",
    "## Objects\n",
    "### Blue light source\n",
    "b1, b2, b3 = symbols('x_lb y_lb z_lb')\n",
    "B = O.locate_new('B', b1*Sys.i + b2*Sys.j + b3*Sys.k)\n",
    "### Red light source\n",
    "r1, r2, r3 = symbols('x_lr y_lr z_lr')\n",
    "R = O.locate_new('R', r1*Sys.i + r2*Sys.j + r3*Sys.k)\n",
    "### Point-like objects (PLO)\n",
    "#### Left PLO\n",
    "pl1, pl2, pl3 = symbols('x_ol y_ol z_ol')\n",
    "Pl = O.locate_new('Pl', pl1*Sys.i + pl2*Sys.j + pl3*Sys.k)\n",
    "#### Right PLO\n",
    "pr1, pr2, pr3 = symbols('x_or y_or z_or')\n",
    "Pr = O.locate_new('Pr', pr1*Sys.i + pr2*Sys.j + pr3*Sys.k)\n",
    "\n",
    "## Camera focal point\n",
    "f1, f2, f3 = symbols('x_cl y_cl z_cl')\n",
    "focalpt = O.locate_new('focalpt', f1*Sys.i + f2*Sys.j + f3*Sys.k)\n",
    "\n",
    "## Three non-colinear points (represent the plane corners)\n",
    "### Screen plane (z coordinate always zero)\n",
    "#### Alpha\n",
    "alpha1, alpha2 = symbols(r'x_\\alpha y_\\alpha')\n",
    "Alpha = O.locate_new('Alpha', alpha1*Sys.i + alpha2*Sys.j + 0*Sys.k)\n",
    "#### Beta\n",
    "beta1, beta2 = symbols(r'x_\\beta y_\\beta')\n",
    "Beta = O.locate_new('Beta', beta1*Sys.i + beta2*Sys.j + 0*Sys.k)\n",
    "#### Gamma\n",
    "gamma1, gamma2 = symbols(r'x_\\gamma y_\\gamma')\n",
    "Gamma = O.locate_new('Gamma', gamma1*Sys.i + gamma2*Sys.j + 0*Sys.k)\n",
    "\n",
    "### Sensor plane\n",
    "Z = symbols('z_p') # The distance from the screen plane to sensor plane\n",
    "#### Delta\n",
    "delta1, delta2 = symbols(r'x_\\delta y_\\delta')\n",
    "Delta = O.locate_new('Delta', delta1*Sys.i + delta2*Sys.j + Z*Sys.k)\n",
    "#### Epsilon\n",
    "epsilon1, epsilon2 = symbols(r'x_\\epsilon y_\\epsilon')\n",
    "Epsilon = O.locate_new('Epsilon', epsilon1*Sys.i + epsilon2*Sys.j + Z*Sys.k)\n",
    "#### Zeta\n",
    "zeta1, zeta2 = symbols(r'x_\\zeta y_\\zeta')\n",
    "Zeta = O.locate_new('Zeta', zeta1*Sys.i + zeta2*Sys.j + Z*Sys.k)\n",
    "\n",
    "#=============================================\n",
    "# Define position vector (relative to origin)\n",
    "#=============================================\n",
    "# X.position_wrt(Y): The position of X with relative to Y\n",
    "\n",
    "## Objects\n",
    "### Blue light source\n",
    "oB = B.position_wrt(O)\n",
    "### Red light source\n",
    "oR = R.position_wrt(O)\n",
    "### Point-like objects\n",
    "#### Left PLO\n",
    "oPl = Pl.position_wrt(O)\n",
    "#### Right PLO\n",
    "oPr = Pr.position_wrt(O)\n",
    "\n",
    "## Camera focal point\n",
    "ofocalpt = focalpt.position_wrt(O)\n",
    "\n",
    "## Three non-colinear points\n",
    "### Screen plane\n",
    "oAlpha = Alpha.position_wrt(O)\n",
    "oBeta = Beta.position_wrt(O)\n",
    "oGamma = Gamma.position_wrt(O)\n",
    "### Sensor plane\n",
    "oDelta = Delta.position_wrt(O)\n",
    "oEpsilon = Epsilon.position_wrt(O)\n",
    "oZeta = Zeta.position_wrt(O)\n",
    "\n",
    "#==============================\n",
    "# Normal vectors of the planes\n",
    "#==============================\n",
    "\n",
    "## Screen plane\n",
    "N1 = (oAlpha-oBeta).cross(oGamma-oBeta)\n",
    "## Sensor plane\n",
    "N2 = (oDelta-oEpsilon).cross(oZeta-oEpsilon)\n",
    "\n",
    "#====================================\n",
    "# Intersection vectors on the planes\n",
    "#====================================\n",
    "\n",
    "## Shadows on the screen plane\n",
    "### Blue shadow \"left\" PLO\n",
    "Sbl = oB + (N1.dot(oB-oBeta)/N1.dot(oB-oPl))*(oPl-oB)\n",
    "### Red shadow \"left\" PLO\n",
    "Srl = oR + (N1.dot(oR-oBeta)/N1.dot(oR-oPl))*(oPl-oR)\n",
    "### Blue shadow \"right\" PLO\n",
    "Sbr = oB + (N1.dot(oB-oBeta)/N1.dot(oB-oPr))*(oPr-oB)\n",
    "### Red shadow \"right\" PLO\n",
    "Srr = oR + (N1.dot(oR-oBeta)/N1.dot(oR-oPr))*(oPr-oR)\n",
    "\n",
    "## Images on the sensor plane\n",
    "### Blue image \"left\" PLO\n",
    "Ibl = Sbl + (N2.dot(Sbl-oEpsilon)/N2.dot(Sbl-ofocalpt))*(ofocalpt-Sbl)\n",
    "### Red Image \"left\" PLO\n",
    "Irl = Srl + (N2.dot(Srl-oEpsilon)/N2.dot(Srl-ofocalpt))*(ofocalpt-Srl)\n",
    "### Blue image \"right\" PLO\n",
    "Ibr = Sbr + (N2.dot(Sbr-oEpsilon)/N2.dot(Sbr-ofocalpt))*(ofocalpt-Sbr)\n",
    "### Red Image \"right\" PLO\n",
    "Irr = Srr + (N2.dot(Srr-oEpsilon)/N2.dot(Srr-ofocalpt))*(ofocalpt-Srr)\n",
    "\n",
    "#===============================\n",
    "# Convert vector in matrix form\n",
    "#===============================\n",
    "\n",
    "## Shadows\n",
    "Sblmat = Sbl.to_matrix(Sys)\n",
    "Srlmat = Srl.to_matrix(Sys)\n",
    "Sbrmat = Sbr.to_matrix(Sys)\n",
    "Srrmat = Srr.to_matrix(Sys)\n",
    "\n",
    "## Images\n",
    "Iblmat = Ibl.to_matrix(Sys)\n",
    "Irlmat = Irl.to_matrix(Sys)\n",
    "Ibrmat = Ibr.to_matrix(Sys)\n",
    "Irrmat = Irr.to_matrix(Sys)"
   ]
  },
  {
   "cell_type": "markdown",
   "metadata": {},
   "source": [
    "## Validity Test"
   ]
  },
  {
   "cell_type": "code",
   "execution_count": 2,
   "metadata": {},
   "outputs": [
    {
     "data": {
      "text/latex": [
       "$\\displaystyle z_{p}$"
      ],
      "text/plain": [
       "z_p"
      ]
     },
     "execution_count": 2,
     "metadata": {},
     "output_type": "execute_result"
    }
   ],
   "source": [
    "# Sensor plane is parallel to screen plane. \n",
    "# Thus, the z coordinate of the red and blue images always at z_p.\n",
    "\n",
    "cancel(Ibrmat[2,0]) # Cancel is a sympy function to simplify an expression.\n",
    "\n",
    "# The ImmutableDenseMatrix of Ibrmat has row and coloumn represented as Ibrmat[row, coloumn]\n",
    "# Ibrmat[0,0] we access the x coordinate of the blue image.\n",
    "# Ibrmat[1,0] we access the y coordinate of the blue image.\n",
    "# Ibrmat[2,0] we access the z coordinate of the blue image."
   ]
  },
  {
   "cell_type": "code",
   "execution_count": 3,
   "metadata": {},
   "outputs": [
    {
     "data": {
      "text/latex": [
       "$\\displaystyle \\mathbf{\\hat{0}}$"
      ],
      "text/plain": [
       "0"
      ]
     },
     "execution_count": 3,
     "metadata": {},
     "output_type": "execute_result"
    }
   ],
   "source": [
    "N1.cross(N2) \n",
    "\n",
    "# The cross product of two normal vectors is zero.\n",
    "# It implies that the angle between two normal vectors is 0 or multiplies of pi.\n",
    "# Thus, the plane is parallel."
   ]
  },
  {
   "cell_type": "markdown",
   "metadata": {},
   "source": [
    "## Calculation Results"
   ]
  },
  {
   "cell_type": "code",
   "execution_count": 48,
   "metadata": {
    "scrolled": false
   },
   "outputs": [
    {
     "data": {
      "text/latex": [
       "$\\displaystyle \\left[\\begin{matrix}x_{lb} + \\frac{z_{lb} \\left(- x_{lb} + x_{ol}\\right)}{z_{lb} - z_{ol}}\\\\y_{lb} + \\frac{z_{lb} \\left(- y_{lb} + y_{ol}\\right)}{z_{lb} - z_{ol}}\\\\\\frac{z_{lb} \\left(- z_{lb} + z_{ol}\\right)}{z_{lb} - z_{ol}} + z_{lb}\\end{matrix}\\right]$"
      ],
      "text/plain": [
       "Matrix([\n",
       "[x_lb + z_lb*(-x_lb + x_ol)/(z_lb - z_ol)],\n",
       "[y_lb + z_lb*(-y_lb + y_ol)/(z_lb - z_ol)],\n",
       "[z_lb*(-z_lb + z_ol)/(z_lb - z_ol) + z_lb]])"
      ]
     },
     "execution_count": 48,
     "metadata": {},
     "output_type": "execute_result"
    }
   ],
   "source": [
    "# Show the Iblmat matrix, i.e. the coordinates of \"left\" PLO (blue image)\n",
    "Iblmat"
   ]
  },
  {
   "cell_type": "code",
   "execution_count": 50,
   "metadata": {},
   "outputs": [
    {
     "data": {
      "text/latex": [
       "$\\displaystyle \\left[\\begin{matrix}\\frac{x_{cl} z_{lb} z_{p} - x_{cl} z_{ol} z_{p} - x_{lb} z_{cl} z_{ol} + x_{lb} z_{ol} z_{p} + x_{ol} z_{cl} z_{lb} - x_{ol} z_{lb} z_{p}}{z_{cl} \\left(z_{lb} - z_{ol}\\right)}\\\\\\frac{y_{cl} z_{lb} z_{p} - y_{cl} z_{ol} z_{p} - y_{lb} z_{cl} z_{ol} + y_{lb} z_{ol} z_{p} + y_{ol} z_{cl} z_{lb} - y_{ol} z_{lb} z_{p}}{z_{cl} \\left(z_{lb} - z_{ol}\\right)}\\\\z_{p}\\end{matrix}\\right]$"
      ],
      "text/plain": [
       "Matrix([\n",
       "[(x_cl*z_lb*z_p - x_cl*z_ol*z_p - x_lb*z_cl*z_ol + x_lb*z_ol*z_p + x_ol*z_cl*z_lb - x_ol*z_lb*z_p)/(z_cl*(z_lb - z_ol))],\n",
       "[(y_cl*z_lb*z_p - y_cl*z_ol*z_p - y_lb*z_cl*z_ol + y_lb*z_ol*z_p + y_ol*z_cl*z_lb - y_ol*z_lb*z_p)/(z_cl*(z_lb - z_ol))],\n",
       "[                                                                                                                   z_p]])"
      ]
     },
     "execution_count": 50,
     "metadata": {},
     "output_type": "execute_result"
    }
   ],
   "source": [
    "simplify(cancel(Iblmat))"
   ]
  },
  {
   "cell_type": "code",
   "execution_count": 5,
   "metadata": {},
   "outputs": [
    {
     "data": {
      "text/latex": [
       "$\\displaystyle \\left[\\begin{matrix}x_{lr} + \\frac{z_{lr} \\left(- x_{lr} + x_{ol}\\right)}{z_{lr} - z_{ol}} + \\frac{\\left(x_{cl} - x_{lr} - \\frac{z_{lr} \\left(- x_{lr} + x_{ol}\\right)}{z_{lr} - z_{ol}}\\right) \\left(\\frac{z_{lr} \\left(- z_{lr} + z_{ol}\\right)}{z_{lr} - z_{ol}} + z_{lr} - z_{p}\\right)}{- z_{cl} + \\frac{z_{lr} \\left(- z_{lr} + z_{ol}\\right)}{z_{lr} - z_{ol}} + z_{lr}}\\\\y_{lr} + \\frac{z_{lr} \\left(- y_{lr} + y_{ol}\\right)}{z_{lr} - z_{ol}} + \\frac{\\left(y_{cl} - y_{lr} - \\frac{z_{lr} \\left(- y_{lr} + y_{ol}\\right)}{z_{lr} - z_{ol}}\\right) \\left(\\frac{z_{lr} \\left(- z_{lr} + z_{ol}\\right)}{z_{lr} - z_{ol}} + z_{lr} - z_{p}\\right)}{- z_{cl} + \\frac{z_{lr} \\left(- z_{lr} + z_{ol}\\right)}{z_{lr} - z_{ol}} + z_{lr}}\\\\\\frac{z_{lr} \\left(- z_{lr} + z_{ol}\\right)}{z_{lr} - z_{ol}} + z_{lr} + \\frac{\\left(z_{cl} - \\frac{z_{lr} \\left(- z_{lr} + z_{ol}\\right)}{z_{lr} - z_{ol}} - z_{lr}\\right) \\left(\\frac{z_{lr} \\left(- z_{lr} + z_{ol}\\right)}{z_{lr} - z_{ol}} + z_{lr} - z_{p}\\right)}{- z_{cl} + \\frac{z_{lr} \\left(- z_{lr} + z_{ol}\\right)}{z_{lr} - z_{ol}} + z_{lr}}\\end{matrix}\\right]$"
      ],
      "text/plain": [
       "Matrix([\n",
       "[x_lr + z_lr*(-x_lr + x_ol)/(z_lr - z_ol) + (x_cl - x_lr - z_lr*(-x_lr + x_ol)/(z_lr - z_ol))*(z_lr*(-z_lr + z_ol)/(z_lr - z_ol) + z_lr - z_p)/(-z_cl + z_lr*(-z_lr + z_ol)/(z_lr - z_ol) + z_lr)],\n",
       "[y_lr + z_lr*(-y_lr + y_ol)/(z_lr - z_ol) + (y_cl - y_lr - z_lr*(-y_lr + y_ol)/(z_lr - z_ol))*(z_lr*(-z_lr + z_ol)/(z_lr - z_ol) + z_lr - z_p)/(-z_cl + z_lr*(-z_lr + z_ol)/(z_lr - z_ol) + z_lr)],\n",
       "[z_lr*(-z_lr + z_ol)/(z_lr - z_ol) + z_lr + (z_cl - z_lr*(-z_lr + z_ol)/(z_lr - z_ol) - z_lr)*(z_lr*(-z_lr + z_ol)/(z_lr - z_ol) + z_lr - z_p)/(-z_cl + z_lr*(-z_lr + z_ol)/(z_lr - z_ol) + z_lr)]])"
      ]
     },
     "execution_count": 5,
     "metadata": {},
     "output_type": "execute_result"
    }
   ],
   "source": [
    "# Show the Irlmat matrix, i.e. the coordinates of \"left\" PLO (red image)\n",
    "Irlmat"
   ]
  },
  {
   "cell_type": "code",
   "execution_count": 51,
   "metadata": {},
   "outputs": [
    {
     "data": {
      "text/latex": [
       "$\\displaystyle \\left[\\begin{matrix}\\frac{x_{cl} z_{lr} z_{p} - x_{cl} z_{ol} z_{p} - x_{lr} z_{cl} z_{ol} + x_{lr} z_{ol} z_{p} + x_{ol} z_{cl} z_{lr} - x_{ol} z_{lr} z_{p}}{z_{cl} \\left(z_{lr} - z_{ol}\\right)}\\\\\\frac{y_{cl} z_{lr} z_{p} - y_{cl} z_{ol} z_{p} - y_{lr} z_{cl} z_{ol} + y_{lr} z_{ol} z_{p} + y_{ol} z_{cl} z_{lr} - y_{ol} z_{lr} z_{p}}{z_{cl} \\left(z_{lr} - z_{ol}\\right)}\\\\z_{p}\\end{matrix}\\right]$"
      ],
      "text/plain": [
       "Matrix([\n",
       "[(x_cl*z_lr*z_p - x_cl*z_ol*z_p - x_lr*z_cl*z_ol + x_lr*z_ol*z_p + x_ol*z_cl*z_lr - x_ol*z_lr*z_p)/(z_cl*(z_lr - z_ol))],\n",
       "[(y_cl*z_lr*z_p - y_cl*z_ol*z_p - y_lr*z_cl*z_ol + y_lr*z_ol*z_p + y_ol*z_cl*z_lr - y_ol*z_lr*z_p)/(z_cl*(z_lr - z_ol))],\n",
       "[                                                                                                                   z_p]])"
      ]
     },
     "execution_count": 51,
     "metadata": {},
     "output_type": "execute_result"
    }
   ],
   "source": [
    "simplify(cancel(Irlmat))"
   ]
  },
  {
   "cell_type": "code",
   "execution_count": 6,
   "metadata": {
    "scrolled": false
   },
   "outputs": [
    {
     "data": {
      "text/latex": [
       "$\\displaystyle \\left[\\begin{matrix}x_{lb} + \\frac{z_{lb} \\left(- x_{lb} + x_{or}\\right)}{z_{lb} - z_{or}} + \\frac{\\left(x_{cl} - x_{lb} - \\frac{z_{lb} \\left(- x_{lb} + x_{or}\\right)}{z_{lb} - z_{or}}\\right) \\left(\\frac{z_{lb} \\left(- z_{lb} + z_{or}\\right)}{z_{lb} - z_{or}} + z_{lb} - z_{p}\\right)}{- z_{cl} + \\frac{z_{lb} \\left(- z_{lb} + z_{or}\\right)}{z_{lb} - z_{or}} + z_{lb}}\\\\y_{lb} + \\frac{z_{lb} \\left(- y_{lb} + y_{or}\\right)}{z_{lb} - z_{or}} + \\frac{\\left(y_{cl} - y_{lb} - \\frac{z_{lb} \\left(- y_{lb} + y_{or}\\right)}{z_{lb} - z_{or}}\\right) \\left(\\frac{z_{lb} \\left(- z_{lb} + z_{or}\\right)}{z_{lb} - z_{or}} + z_{lb} - z_{p}\\right)}{- z_{cl} + \\frac{z_{lb} \\left(- z_{lb} + z_{or}\\right)}{z_{lb} - z_{or}} + z_{lb}}\\\\\\frac{z_{lb} \\left(- z_{lb} + z_{or}\\right)}{z_{lb} - z_{or}} + z_{lb} + \\frac{\\left(z_{cl} - \\frac{z_{lb} \\left(- z_{lb} + z_{or}\\right)}{z_{lb} - z_{or}} - z_{lb}\\right) \\left(\\frac{z_{lb} \\left(- z_{lb} + z_{or}\\right)}{z_{lb} - z_{or}} + z_{lb} - z_{p}\\right)}{- z_{cl} + \\frac{z_{lb} \\left(- z_{lb} + z_{or}\\right)}{z_{lb} - z_{or}} + z_{lb}}\\end{matrix}\\right]$"
      ],
      "text/plain": [
       "Matrix([\n",
       "[x_lb + z_lb*(-x_lb + x_or)/(z_lb - z_or) + (x_cl - x_lb - z_lb*(-x_lb + x_or)/(z_lb - z_or))*(z_lb*(-z_lb + z_or)/(z_lb - z_or) + z_lb - z_p)/(-z_cl + z_lb*(-z_lb + z_or)/(z_lb - z_or) + z_lb)],\n",
       "[y_lb + z_lb*(-y_lb + y_or)/(z_lb - z_or) + (y_cl - y_lb - z_lb*(-y_lb + y_or)/(z_lb - z_or))*(z_lb*(-z_lb + z_or)/(z_lb - z_or) + z_lb - z_p)/(-z_cl + z_lb*(-z_lb + z_or)/(z_lb - z_or) + z_lb)],\n",
       "[z_lb*(-z_lb + z_or)/(z_lb - z_or) + z_lb + (z_cl - z_lb*(-z_lb + z_or)/(z_lb - z_or) - z_lb)*(z_lb*(-z_lb + z_or)/(z_lb - z_or) + z_lb - z_p)/(-z_cl + z_lb*(-z_lb + z_or)/(z_lb - z_or) + z_lb)]])"
      ]
     },
     "execution_count": 6,
     "metadata": {},
     "output_type": "execute_result"
    }
   ],
   "source": [
    "# Show the Ibrmat matrix, i.e. the coordinates of \"right\" PLO (blue image)\n",
    "Ibrmat"
   ]
  },
  {
   "cell_type": "code",
   "execution_count": 52,
   "metadata": {},
   "outputs": [
    {
     "data": {
      "text/latex": [
       "$\\displaystyle \\left[\\begin{matrix}\\frac{x_{cl} z_{lb} z_{p} - x_{cl} z_{or} z_{p} - x_{lb} z_{cl} z_{or} + x_{lb} z_{or} z_{p} + x_{or} z_{cl} z_{lb} - x_{or} z_{lb} z_{p}}{z_{cl} \\left(z_{lb} - z_{or}\\right)}\\\\\\frac{y_{cl} z_{lb} z_{p} - y_{cl} z_{or} z_{p} - y_{lb} z_{cl} z_{or} + y_{lb} z_{or} z_{p} + y_{or} z_{cl} z_{lb} - y_{or} z_{lb} z_{p}}{z_{cl} \\left(z_{lb} - z_{or}\\right)}\\\\z_{p}\\end{matrix}\\right]$"
      ],
      "text/plain": [
       "Matrix([\n",
       "[(x_cl*z_lb*z_p - x_cl*z_or*z_p - x_lb*z_cl*z_or + x_lb*z_or*z_p + x_or*z_cl*z_lb - x_or*z_lb*z_p)/(z_cl*(z_lb - z_or))],\n",
       "[(y_cl*z_lb*z_p - y_cl*z_or*z_p - y_lb*z_cl*z_or + y_lb*z_or*z_p + y_or*z_cl*z_lb - y_or*z_lb*z_p)/(z_cl*(z_lb - z_or))],\n",
       "[                                                                                                                   z_p]])"
      ]
     },
     "execution_count": 52,
     "metadata": {},
     "output_type": "execute_result"
    }
   ],
   "source": [
    "simplify(cancel(Ibrmat))"
   ]
  },
  {
   "cell_type": "code",
   "execution_count": 7,
   "metadata": {},
   "outputs": [
    {
     "data": {
      "text/latex": [
       "$\\displaystyle \\left[\\begin{matrix}x_{lr} + \\frac{z_{lr} \\left(- x_{lr} + x_{or}\\right)}{z_{lr} - z_{or}} + \\frac{\\left(x_{cl} - x_{lr} - \\frac{z_{lr} \\left(- x_{lr} + x_{or}\\right)}{z_{lr} - z_{or}}\\right) \\left(\\frac{z_{lr} \\left(- z_{lr} + z_{or}\\right)}{z_{lr} - z_{or}} + z_{lr} - z_{p}\\right)}{- z_{cl} + \\frac{z_{lr} \\left(- z_{lr} + z_{or}\\right)}{z_{lr} - z_{or}} + z_{lr}}\\\\y_{lr} + \\frac{z_{lr} \\left(- y_{lr} + y_{or}\\right)}{z_{lr} - z_{or}} + \\frac{\\left(y_{cl} - y_{lr} - \\frac{z_{lr} \\left(- y_{lr} + y_{or}\\right)}{z_{lr} - z_{or}}\\right) \\left(\\frac{z_{lr} \\left(- z_{lr} + z_{or}\\right)}{z_{lr} - z_{or}} + z_{lr} - z_{p}\\right)}{- z_{cl} + \\frac{z_{lr} \\left(- z_{lr} + z_{or}\\right)}{z_{lr} - z_{or}} + z_{lr}}\\\\\\frac{z_{lr} \\left(- z_{lr} + z_{or}\\right)}{z_{lr} - z_{or}} + z_{lr} + \\frac{\\left(z_{cl} - \\frac{z_{lr} \\left(- z_{lr} + z_{or}\\right)}{z_{lr} - z_{or}} - z_{lr}\\right) \\left(\\frac{z_{lr} \\left(- z_{lr} + z_{or}\\right)}{z_{lr} - z_{or}} + z_{lr} - z_{p}\\right)}{- z_{cl} + \\frac{z_{lr} \\left(- z_{lr} + z_{or}\\right)}{z_{lr} - z_{or}} + z_{lr}}\\end{matrix}\\right]$"
      ],
      "text/plain": [
       "Matrix([\n",
       "[x_lr + z_lr*(-x_lr + x_or)/(z_lr - z_or) + (x_cl - x_lr - z_lr*(-x_lr + x_or)/(z_lr - z_or))*(z_lr*(-z_lr + z_or)/(z_lr - z_or) + z_lr - z_p)/(-z_cl + z_lr*(-z_lr + z_or)/(z_lr - z_or) + z_lr)],\n",
       "[y_lr + z_lr*(-y_lr + y_or)/(z_lr - z_or) + (y_cl - y_lr - z_lr*(-y_lr + y_or)/(z_lr - z_or))*(z_lr*(-z_lr + z_or)/(z_lr - z_or) + z_lr - z_p)/(-z_cl + z_lr*(-z_lr + z_or)/(z_lr - z_or) + z_lr)],\n",
       "[z_lr*(-z_lr + z_or)/(z_lr - z_or) + z_lr + (z_cl - z_lr*(-z_lr + z_or)/(z_lr - z_or) - z_lr)*(z_lr*(-z_lr + z_or)/(z_lr - z_or) + z_lr - z_p)/(-z_cl + z_lr*(-z_lr + z_or)/(z_lr - z_or) + z_lr)]])"
      ]
     },
     "execution_count": 7,
     "metadata": {},
     "output_type": "execute_result"
    }
   ],
   "source": [
    "# Show the Irrmat matrix, i.e. the coordinates of \"right\" PLO (red image)\n",
    "Irrmat"
   ]
  },
  {
   "cell_type": "code",
   "execution_count": 53,
   "metadata": {},
   "outputs": [
    {
     "data": {
      "text/latex": [
       "$\\displaystyle \\left[\\begin{matrix}\\frac{x_{cl} z_{lr} z_{p} - x_{cl} z_{or} z_{p} - x_{lr} z_{cl} z_{or} + x_{lr} z_{or} z_{p} + x_{or} z_{cl} z_{lr} - x_{or} z_{lr} z_{p}}{z_{cl} \\left(z_{lr} - z_{or}\\right)}\\\\\\frac{y_{cl} z_{lr} z_{p} - y_{cl} z_{or} z_{p} - y_{lr} z_{cl} z_{or} + y_{lr} z_{or} z_{p} + y_{or} z_{cl} z_{lr} - y_{or} z_{lr} z_{p}}{z_{cl} \\left(z_{lr} - z_{or}\\right)}\\\\z_{p}\\end{matrix}\\right]$"
      ],
      "text/plain": [
       "Matrix([\n",
       "[(x_cl*z_lr*z_p - x_cl*z_or*z_p - x_lr*z_cl*z_or + x_lr*z_or*z_p + x_or*z_cl*z_lr - x_or*z_lr*z_p)/(z_cl*(z_lr - z_or))],\n",
       "[(y_cl*z_lr*z_p - y_cl*z_or*z_p - y_lr*z_cl*z_or + y_lr*z_or*z_p + y_or*z_cl*z_lr - y_or*z_lr*z_p)/(z_cl*(z_lr - z_or))],\n",
       "[                                                                                                                   z_p]])"
      ]
     },
     "execution_count": 53,
     "metadata": {},
     "output_type": "execute_result"
    }
   ],
   "source": [
    "simplify(cancel(Irrmat))"
   ]
  },
  {
   "cell_type": "markdown",
   "metadata": {},
   "source": [
    "## Sensitivity Analysis"
   ]
  },
  {
   "cell_type": "markdown",
   "metadata": {},
   "source": [
    "### The calculation of Sensitivity using Partial Derivative"
   ]
  },
  {
   "cell_type": "code",
   "execution_count": 8,
   "metadata": {
    "scrolled": false
   },
   "outputs": [
    {
     "name": "stdout",
     "output_type": "stream",
     "text": [
      "Partial derivative of x_ibl\n",
      ":\n",
      "---> with respect to x_ol is: \n",
      "     z_lb*(z_cl - z_p)/(z_cl*(z_lb - z_ol))\n",
      ":\n",
      "---> with respect to y_ol is: \n",
      "     0\n",
      ":\n",
      "---> with respect to z_ol is: \n",
      "     -z_lb*(x_lb - x_ol)*(z_cl - z_p)/(z_cl*(z_lb - z_ol)**2)\n",
      ":\n",
      "---> with respect to x_or is: \n",
      "     0\n",
      ":\n",
      "---> with respect to y_or is: \n",
      "     0\n",
      ":\n",
      "---> with respect to z_or is: \n",
      "     0\n",
      "\n",
      "\n",
      "Partial derivative of y_ibl\n",
      ":\n",
      "---> with respect to x_ol is: \n",
      "     0\n",
      ":\n",
      "---> with respect to y_ol is: \n",
      "     z_lb*(z_cl - z_p)/(z_cl*(z_lb - z_ol))\n",
      ":\n",
      "---> with respect to z_ol is: \n",
      "     -z_lb*(y_lb - y_ol)*(z_cl - z_p)/(z_cl*(z_lb - z_ol)**2)\n",
      ":\n",
      "---> with respect to x_or is: \n",
      "     0\n",
      ":\n",
      "---> with respect to y_or is: \n",
      "     0\n",
      ":\n",
      "---> with respect to z_or is: \n",
      "     0\n",
      "\n",
      "\n",
      "Partial derivative of z_ibl\n",
      ":\n",
      "---> with respect to x_ol is: \n",
      "     0\n",
      ":\n",
      "---> with respect to y_ol is: \n",
      "     0\n",
      ":\n",
      "---> with respect to z_ol is: \n",
      "     0\n",
      ":\n",
      "---> with respect to x_or is: \n",
      "     0\n",
      ":\n",
      "---> with respect to y_or is: \n",
      "     0\n",
      ":\n",
      "---> with respect to z_or is: \n",
      "     0\n",
      "\n",
      "\n"
     ]
    }
   ],
   "source": [
    "# Sensitivity analysis for \"Iblmat\" matrix (blue image)\n",
    "\n",
    "xibl, yibl, zibl = symbols('x_ibl y_ibl z_ibl')\n",
    "coordinates_output = [xibl, yibl, zibl]\n",
    "coordinates_input = [pl1, pl2, pl3, pr1, pr2, pr3]\n",
    "\n",
    "for i in range(0,len(coordinates_output)):\n",
    "    print(\"Partial derivative of\",coordinates_output[i])\n",
    "    for p in coordinates_input:\n",
    "        Dp = factor(simplify(cancel(diff(Iblmat[i,0],p))))\n",
    "        print(\":\")\n",
    "        print(\"--->\",\"with respect to\",p,\"is:\",\"\\n\",\"   \",Dp)\n",
    "    print()\n",
    "    print()\n",
    "        \n",
    "# Factor, simplify, and cancel is sympy function for simplificating an expression."
   ]
  },
  {
   "cell_type": "code",
   "execution_count": 9,
   "metadata": {},
   "outputs": [
    {
     "name": "stdout",
     "output_type": "stream",
     "text": [
      "Partial derivative of x_irl\n",
      ":\n",
      "---> with respect to x_ol is: \n",
      "     z_lr*(z_cl - z_p)/(z_cl*(z_lr - z_ol))\n",
      ":\n",
      "---> with respect to y_ol is: \n",
      "     0\n",
      ":\n",
      "---> with respect to z_ol is: \n",
      "     -z_lr*(x_lr - x_ol)*(z_cl - z_p)/(z_cl*(z_lr - z_ol)**2)\n",
      ":\n",
      "---> with respect to x_or is: \n",
      "     0\n",
      ":\n",
      "---> with respect to y_or is: \n",
      "     0\n",
      ":\n",
      "---> with respect to z_or is: \n",
      "     0\n",
      "\n",
      "\n",
      "Partial derivative of y_irl\n",
      ":\n",
      "---> with respect to x_ol is: \n",
      "     0\n",
      ":\n",
      "---> with respect to y_ol is: \n",
      "     z_lr*(z_cl - z_p)/(z_cl*(z_lr - z_ol))\n",
      ":\n",
      "---> with respect to z_ol is: \n",
      "     -z_lr*(y_lr - y_ol)*(z_cl - z_p)/(z_cl*(z_lr - z_ol)**2)\n",
      ":\n",
      "---> with respect to x_or is: \n",
      "     0\n",
      ":\n",
      "---> with respect to y_or is: \n",
      "     0\n",
      ":\n",
      "---> with respect to z_or is: \n",
      "     0\n",
      "\n",
      "\n",
      "Partial derivative of z_irl\n",
      ":\n",
      "---> with respect to x_ol is: \n",
      "     0\n",
      ":\n",
      "---> with respect to y_ol is: \n",
      "     0\n",
      ":\n",
      "---> with respect to z_ol is: \n",
      "     0\n",
      ":\n",
      "---> with respect to x_or is: \n",
      "     0\n",
      ":\n",
      "---> with respect to y_or is: \n",
      "     0\n",
      ":\n",
      "---> with respect to z_or is: \n",
      "     0\n",
      "\n",
      "\n"
     ]
    }
   ],
   "source": [
    "# Sensitivity analysis for \"Irlmat\" matrix (red image)\n",
    "\n",
    "xirl, yirl, zirl = symbols('x_irl y_irl z_irl')\n",
    "coordinates_output = [xirl, yirl, zirl]\n",
    "coordinates_input = [pl1, pl2, pl3, pr1, pr2, pr3]\n",
    "\n",
    "for i in range(0,len(coordinates_output)):\n",
    "    print(\"Partial derivative of\",coordinates_output[i])\n",
    "    for p in coordinates_input:\n",
    "        Dp = factor(simplify(cancel(diff(Irlmat[i,0],p))))\n",
    "        print(\":\")\n",
    "        print(\"--->\",\"with respect to\",p,\"is:\",\"\\n\",\"   \",Dp)\n",
    "    print()\n",
    "    print()"
   ]
  },
  {
   "cell_type": "code",
   "execution_count": 10,
   "metadata": {
    "scrolled": false
   },
   "outputs": [
    {
     "name": "stdout",
     "output_type": "stream",
     "text": [
      "Partial derivative of x_ibr\n",
      ":\n",
      "---> with respect to x_ol is: \n",
      "     0\n",
      ":\n",
      "---> with respect to y_ol is: \n",
      "     0\n",
      ":\n",
      "---> with respect to z_ol is: \n",
      "     0\n",
      ":\n",
      "---> with respect to x_or is: \n",
      "     z_lb*(z_cl - z_p)/(z_cl*(z_lb - z_or))\n",
      ":\n",
      "---> with respect to y_or is: \n",
      "     0\n",
      ":\n",
      "---> with respect to z_or is: \n",
      "     -z_lb*(x_lb - x_or)*(z_cl - z_p)/(z_cl*(z_lb - z_or)**2)\n",
      "\n",
      "\n",
      "Partial derivative of y_ibr\n",
      ":\n",
      "---> with respect to x_ol is: \n",
      "     0\n",
      ":\n",
      "---> with respect to y_ol is: \n",
      "     0\n",
      ":\n",
      "---> with respect to z_ol is: \n",
      "     0\n",
      ":\n",
      "---> with respect to x_or is: \n",
      "     0\n",
      ":\n",
      "---> with respect to y_or is: \n",
      "     z_lb*(z_cl - z_p)/(z_cl*(z_lb - z_or))\n",
      ":\n",
      "---> with respect to z_or is: \n",
      "     -z_lb*(y_lb - y_or)*(z_cl - z_p)/(z_cl*(z_lb - z_or)**2)\n",
      "\n",
      "\n",
      "Partial derivative of z_ibr\n",
      ":\n",
      "---> with respect to x_ol is: \n",
      "     0\n",
      ":\n",
      "---> with respect to y_ol is: \n",
      "     0\n",
      ":\n",
      "---> with respect to z_ol is: \n",
      "     0\n",
      ":\n",
      "---> with respect to x_or is: \n",
      "     0\n",
      ":\n",
      "---> with respect to y_or is: \n",
      "     0\n",
      ":\n",
      "---> with respect to z_or is: \n",
      "     0\n",
      "\n",
      "\n"
     ]
    }
   ],
   "source": [
    "# Sensitivity analysis for \"Ibrmat\" matrix (blue image)\n",
    "\n",
    "xibr, yibr, zibr = symbols('x_ibr y_ibr z_ibr')\n",
    "coordinates_output = [xibr, yibr, zibr]\n",
    "coordinates_input = [pl1, pl2, pl3, pr1, pr2, pr3]\n",
    "\n",
    "for i in range(0,len(coordinates_output)):\n",
    "    print(\"Partial derivative of\",coordinates_output[i])\n",
    "    for p in coordinates_input:\n",
    "        Dp = factor(simplify(cancel(diff(Ibrmat[i,0],p))))\n",
    "        print(\":\")\n",
    "        print(\"--->\",\"with respect to\",p,\"is:\",\"\\n\",\"   \",Dp)\n",
    "    print()\n",
    "    print()\n",
    "        \n",
    "# Factor, simplify, and cancel is sympy function for simplificating an expression."
   ]
  },
  {
   "cell_type": "code",
   "execution_count": 11,
   "metadata": {},
   "outputs": [
    {
     "name": "stdout",
     "output_type": "stream",
     "text": [
      "Partial derivative of x_irr\n",
      ":\n",
      "---> with respect to x_ol is: \n",
      "     0\n",
      ":\n",
      "---> with respect to y_ol is: \n",
      "     0\n",
      ":\n",
      "---> with respect to z_ol is: \n",
      "     0\n",
      ":\n",
      "---> with respect to x_or is: \n",
      "     z_lr*(z_cl - z_p)/(z_cl*(z_lr - z_or))\n",
      ":\n",
      "---> with respect to y_or is: \n",
      "     0\n",
      ":\n",
      "---> with respect to z_or is: \n",
      "     -z_lr*(x_lr - x_or)*(z_cl - z_p)/(z_cl*(z_lr - z_or)**2)\n",
      "\n",
      "\n",
      "Partial derivative of y_irr\n",
      ":\n",
      "---> with respect to x_ol is: \n",
      "     0\n",
      ":\n",
      "---> with respect to y_ol is: \n",
      "     0\n",
      ":\n",
      "---> with respect to z_ol is: \n",
      "     0\n",
      ":\n",
      "---> with respect to x_or is: \n",
      "     0\n",
      ":\n",
      "---> with respect to y_or is: \n",
      "     z_lr*(z_cl - z_p)/(z_cl*(z_lr - z_or))\n",
      ":\n",
      "---> with respect to z_or is: \n",
      "     -z_lr*(y_lr - y_or)*(z_cl - z_p)/(z_cl*(z_lr - z_or)**2)\n",
      "\n",
      "\n",
      "Partial derivative of z_irr\n",
      ":\n",
      "---> with respect to x_ol is: \n",
      "     0\n",
      ":\n",
      "---> with respect to y_ol is: \n",
      "     0\n",
      ":\n",
      "---> with respect to z_ol is: \n",
      "     0\n",
      ":\n",
      "---> with respect to x_or is: \n",
      "     0\n",
      ":\n",
      "---> with respect to y_or is: \n",
      "     0\n",
      ":\n",
      "---> with respect to z_or is: \n",
      "     0\n",
      "\n",
      "\n"
     ]
    }
   ],
   "source": [
    "# Sensitivity analysis for \"Irrmat\" matrix (red image)\n",
    "\n",
    "xirr, yirr, zirr = symbols('x_irr y_irr z_irr')\n",
    "coordinates_output = [xirr, yirr, zirr]\n",
    "coordinates_input = [pl1, pl2, pl3, pr1, pr2, pr3]\n",
    "\n",
    "for i in range(0,len(coordinates_output)):\n",
    "    print(\"Partial derivative of\",coordinates_output[i])\n",
    "    for p in coordinates_input:\n",
    "        Dp = factor(simplify(cancel(diff(Irrmat[i,0],p))))\n",
    "        print(\":\")\n",
    "        print(\"--->\",\"with respect to\",p,\"is:\",\"\\n\",\"   \",Dp)\n",
    "    print()\n",
    "    print()"
   ]
  },
  {
   "cell_type": "markdown",
   "metadata": {},
   "source": [
    "### Identical Sensitivity Equation"
   ]
  },
  {
   "cell_type": "markdown",
   "metadata": {},
   "source": [
    "Suppose, $(x_{opl},y_{opl})$ is the coordinates of the left PLO, $(x_{ibl},y_{ibl})$ is the coordinates of the blue left PLO image, $(x_{irl},y_{irl})$ is the coordinates of the red left PLO image, $(x_{opr},y_{opr})$ is the coordinates of the right PLO, $(x_{ibr},y_{ibr})$ is the coordinates of the blue right PLO image, and $(x_{irr},y_{irr})$ is the coordinates of the red right PLO image.\n",
    "\n",
    "The sensitivity equation $\\frac{\\partial{x_{ibl}}}{\\partial{x_{opl}}}$ and $\\frac{\\partial{y_{ibl}}}{\\partial{y_{opl}}}$ is identic."
   ]
  },
  {
   "cell_type": "code",
   "execution_count": 12,
   "metadata": {
    "scrolled": true
   },
   "outputs": [
    {
     "data": {
      "text/plain": [
       "True"
      ]
     },
     "execution_count": 12,
     "metadata": {},
     "output_type": "execute_result"
    }
   ],
   "source": [
    "# Prove\n",
    "diff(Iblmat[0,0],pl1) == diff(Iblmat[1,0],pl2)"
   ]
  },
  {
   "cell_type": "markdown",
   "metadata": {},
   "source": [
    "The sensitivity equation $\\frac{\\partial{x_{irl}}}{\\partial{x_{opl}}}$ and $\\frac{\\partial{y_{irl}}}{\\partial{y_{opl}}}$ is identic."
   ]
  },
  {
   "cell_type": "code",
   "execution_count": 13,
   "metadata": {
    "scrolled": true
   },
   "outputs": [
    {
     "data": {
      "text/plain": [
       "True"
      ]
     },
     "execution_count": 13,
     "metadata": {},
     "output_type": "execute_result"
    }
   ],
   "source": [
    "# Prove\n",
    "diff(Irlmat[0,0],pl1) == diff(Irlmat[1,0],pl2)"
   ]
  },
  {
   "cell_type": "markdown",
   "metadata": {},
   "source": [
    "The sensitivity equation $\\frac{\\partial{x_{ibr}}}{\\partial{x_{opr}}}$ and $\\frac{\\partial{y_{ibr}}}{\\partial{y_{opr}}}$ is identic."
   ]
  },
  {
   "cell_type": "code",
   "execution_count": 14,
   "metadata": {},
   "outputs": [
    {
     "data": {
      "text/plain": [
       "True"
      ]
     },
     "execution_count": 14,
     "metadata": {},
     "output_type": "execute_result"
    }
   ],
   "source": [
    "# Prove\n",
    "diff(Ibrmat[0,0],pr1) == diff(Ibrmat[1,0],pr2)"
   ]
  },
  {
   "cell_type": "markdown",
   "metadata": {},
   "source": [
    "The sensitivity equation $\\frac{\\partial{x_{irr}}}{\\partial{x_{opr}}}$ and $\\frac{\\partial{y_{irr}}}{\\partial{y_{opr}}}$ is identic."
   ]
  },
  {
   "cell_type": "code",
   "execution_count": 15,
   "metadata": {},
   "outputs": [
    {
     "data": {
      "text/plain": [
       "True"
      ]
     },
     "execution_count": 15,
     "metadata": {},
     "output_type": "execute_result"
    }
   ],
   "source": [
    "# Prove\n",
    "diff(Irrmat[0,0],pr1) == diff(Irrmat[1,0],pr2)"
   ]
  },
  {
   "cell_type": "markdown",
   "metadata": {},
   "source": [
    "### Unique Sensitivity Equation\n",
    "\n",
    "Sensitivity of the z coordinate of the red and the blue image is always zero and we have total 12 unique sensitivity equation. "
   ]
  },
  {
   "cell_type": "code",
   "execution_count": 16,
   "metadata": {},
   "outputs": [
    {
     "data": {
      "text/latex": [
       "$\\displaystyle \\frac{z_{lb} \\left(z_{cl} - z_{p}\\right)}{z_{cl} \\left(z_{lb} - z_{ol}\\right)}$"
      ],
      "text/plain": [
       "z_lb*(z_cl - z_p)/(z_cl*(z_lb - z_ol))"
      ]
     },
     "execution_count": 16,
     "metadata": {},
     "output_type": "execute_result"
    }
   ],
   "source": [
    "# Partial derivative of x coordinate of the blue \"left\" PLO image with respect to x_ol\n",
    "factor(simplify(cancel(diff(Iblmat[0,0],pl1))))\n",
    "\n",
    "# This equation is identical to partial derivative of y coordinate of the blue image with respect to y_op.\n",
    "# See the prove in identical sensitivity equation subsection. Otherwise, check in the sensitivity calculation."
   ]
  },
  {
   "cell_type": "markdown",
   "metadata": {},
   "source": [
    "**Interpretation**: Small $z_{ol}$ (distance of left PLO with relative to screen plane) causing the sensitivity to go higher. The closer the camera to the screen, the higher the sensitivity is. Longer focal distance makes this particular sensitivity goes higher. The farther the blue light source from the screen, the higher the sensitivity."
   ]
  },
  {
   "cell_type": "code",
   "execution_count": 17,
   "metadata": {},
   "outputs": [
    {
     "data": {
      "text/latex": [
       "$\\displaystyle - \\frac{z_{lb} \\left(x_{lb} - x_{ol}\\right) \\left(z_{cl} - z_{p}\\right)}{z_{cl} \\left(z_{lb} - z_{ol}\\right)^{2}}$"
      ],
      "text/plain": [
       "-z_lb*(x_lb - x_ol)*(z_cl - z_p)/(z_cl*(z_lb - z_ol)**2)"
      ]
     },
     "execution_count": 17,
     "metadata": {},
     "output_type": "execute_result"
    }
   ],
   "source": [
    "# Partial derivative of x coordinate of the blue \"left\" PLO image with respect to z_ol\n",
    "factor(simplify(cancel(diff(Iblmat[0,0],pl3))))"
   ]
  },
  {
   "cell_type": "markdown",
   "metadata": {},
   "source": [
    "**Interpretation**: Same as above, with additional condition: increase the $x_{lb}$ with relative to $x_{ol}$ causing the sensitivity to go higher."
   ]
  },
  {
   "cell_type": "markdown",
   "metadata": {},
   "source": [
    "*For all of the sensitivity equation below, we will combine the interpretation in one summary.*"
   ]
  },
  {
   "cell_type": "code",
   "execution_count": 18,
   "metadata": {},
   "outputs": [
    {
     "data": {
      "text/latex": [
       "$\\displaystyle - \\frac{z_{lb} \\left(y_{lb} - y_{ol}\\right) \\left(z_{cl} - z_{p}\\right)}{z_{cl} \\left(z_{lb} - z_{ol}\\right)^{2}}$"
      ],
      "text/plain": [
       "-z_lb*(y_lb - y_ol)*(z_cl - z_p)/(z_cl*(z_lb - z_ol)**2)"
      ]
     },
     "execution_count": 18,
     "metadata": {},
     "output_type": "execute_result"
    }
   ],
   "source": [
    "# Partial derivative of y coordinate of the blue \"left\" PLO image with respect to z_ol\n",
    "factor(simplify(cancel(diff(Iblmat[1,0],pl3))))"
   ]
  },
  {
   "cell_type": "code",
   "execution_count": 19,
   "metadata": {},
   "outputs": [
    {
     "data": {
      "text/latex": [
       "$\\displaystyle \\frac{z_{lr} \\left(z_{cl} - z_{p}\\right)}{z_{cl} \\left(z_{lr} - z_{ol}\\right)}$"
      ],
      "text/plain": [
       "z_lr*(z_cl - z_p)/(z_cl*(z_lr - z_ol))"
      ]
     },
     "execution_count": 19,
     "metadata": {},
     "output_type": "execute_result"
    }
   ],
   "source": [
    "# Partial derivative of x coordinate of the red \"left\" PLO image with respect to x_ol\n",
    "factor(simplify(cancel(diff(Irlmat[0,0],pl1))))"
   ]
  },
  {
   "cell_type": "code",
   "execution_count": 20,
   "metadata": {},
   "outputs": [
    {
     "data": {
      "text/latex": [
       "$\\displaystyle - \\frac{z_{lr} \\left(x_{lr} - x_{ol}\\right) \\left(z_{cl} - z_{p}\\right)}{z_{cl} \\left(z_{lr} - z_{ol}\\right)^{2}}$"
      ],
      "text/plain": [
       "-z_lr*(x_lr - x_ol)*(z_cl - z_p)/(z_cl*(z_lr - z_ol)**2)"
      ]
     },
     "execution_count": 20,
     "metadata": {},
     "output_type": "execute_result"
    }
   ],
   "source": [
    "# Partial derivative of x coordinate of the red \"left\" PLO image with respect to z_ol\n",
    "factor(simplify(cancel(diff(Irlmat[0,0],pl3))))"
   ]
  },
  {
   "cell_type": "code",
   "execution_count": 21,
   "metadata": {},
   "outputs": [
    {
     "data": {
      "text/latex": [
       "$\\displaystyle - \\frac{z_{lr} \\left(y_{lr} - y_{ol}\\right) \\left(z_{cl} - z_{p}\\right)}{z_{cl} \\left(z_{lr} - z_{ol}\\right)^{2}}$"
      ],
      "text/plain": [
       "-z_lr*(y_lr - y_ol)*(z_cl - z_p)/(z_cl*(z_lr - z_ol)**2)"
      ]
     },
     "execution_count": 21,
     "metadata": {},
     "output_type": "execute_result"
    }
   ],
   "source": [
    "# Partial derivative of y coordinate of the red \"left\" PLO image with respect to z_ol\n",
    "factor(simplify(cancel(diff(Irlmat[1,0],pl3))))"
   ]
  },
  {
   "cell_type": "code",
   "execution_count": 22,
   "metadata": {},
   "outputs": [
    {
     "data": {
      "text/latex": [
       "$\\displaystyle \\frac{z_{lb} \\left(z_{cl} - z_{p}\\right)}{z_{cl} \\left(z_{lb} - z_{or}\\right)}$"
      ],
      "text/plain": [
       "z_lb*(z_cl - z_p)/(z_cl*(z_lb - z_or))"
      ]
     },
     "execution_count": 22,
     "metadata": {},
     "output_type": "execute_result"
    }
   ],
   "source": [
    "# Partial derivative of x coordinate of the blue \"right\" PLO image with respect to x_or\n",
    "factor(simplify(cancel(diff(Ibrmat[0,0],pr1))))"
   ]
  },
  {
   "cell_type": "code",
   "execution_count": 23,
   "metadata": {},
   "outputs": [
    {
     "data": {
      "text/latex": [
       "$\\displaystyle - \\frac{z_{lb} \\left(x_{lb} - x_{or}\\right) \\left(z_{cl} - z_{p}\\right)}{z_{cl} \\left(z_{lb} - z_{or}\\right)^{2}}$"
      ],
      "text/plain": [
       "-z_lb*(x_lb - x_or)*(z_cl - z_p)/(z_cl*(z_lb - z_or)**2)"
      ]
     },
     "execution_count": 23,
     "metadata": {},
     "output_type": "execute_result"
    }
   ],
   "source": [
    "# Partial derivative of x coordinate of the blue \"right\" PLO image with respect to z_or\n",
    "factor(simplify(cancel(diff(Ibrmat[0,0],pr3))))"
   ]
  },
  {
   "cell_type": "code",
   "execution_count": 24,
   "metadata": {},
   "outputs": [
    {
     "data": {
      "text/latex": [
       "$\\displaystyle - \\frac{z_{lb} \\left(y_{lb} - y_{or}\\right) \\left(z_{cl} - z_{p}\\right)}{z_{cl} \\left(z_{lb} - z_{or}\\right)^{2}}$"
      ],
      "text/plain": [
       "-z_lb*(y_lb - y_or)*(z_cl - z_p)/(z_cl*(z_lb - z_or)**2)"
      ]
     },
     "execution_count": 24,
     "metadata": {},
     "output_type": "execute_result"
    }
   ],
   "source": [
    "# Partial derivative of y coordinate of the blue \"right\" PLO image with respect to z_or\n",
    "factor(simplify(cancel(diff(Ibrmat[1,0],pr3))))"
   ]
  },
  {
   "cell_type": "code",
   "execution_count": 25,
   "metadata": {},
   "outputs": [
    {
     "data": {
      "text/latex": [
       "$\\displaystyle \\frac{z_{lr} \\left(z_{cl} - z_{p}\\right)}{z_{cl} \\left(z_{lr} - z_{or}\\right)}$"
      ],
      "text/plain": [
       "z_lr*(z_cl - z_p)/(z_cl*(z_lr - z_or))"
      ]
     },
     "execution_count": 25,
     "metadata": {},
     "output_type": "execute_result"
    }
   ],
   "source": [
    "# Partial derivative of x coordinate of the red \"right\" PLO image with respect to x_or\n",
    "factor(simplify(cancel(diff(Irrmat[0,0],pr1))))"
   ]
  },
  {
   "cell_type": "code",
   "execution_count": 26,
   "metadata": {},
   "outputs": [
    {
     "data": {
      "text/latex": [
       "$\\displaystyle - \\frac{z_{lr} \\left(x_{lr} - x_{or}\\right) \\left(z_{cl} - z_{p}\\right)}{z_{cl} \\left(z_{lr} - z_{or}\\right)^{2}}$"
      ],
      "text/plain": [
       "-z_lr*(x_lr - x_or)*(z_cl - z_p)/(z_cl*(z_lr - z_or)**2)"
      ]
     },
     "execution_count": 26,
     "metadata": {},
     "output_type": "execute_result"
    }
   ],
   "source": [
    "# Partial derivative of x coordinate of the red \"right\" PLO image with respect to z_or\n",
    "factor(simplify(cancel(diff(Irrmat[0,0],pr3))))"
   ]
  },
  {
   "cell_type": "code",
   "execution_count": 27,
   "metadata": {},
   "outputs": [
    {
     "data": {
      "text/latex": [
       "$\\displaystyle - \\frac{z_{lr} \\left(y_{lr} - y_{or}\\right) \\left(z_{cl} - z_{p}\\right)}{z_{cl} \\left(z_{lr} - z_{or}\\right)^{2}}$"
      ],
      "text/plain": [
       "-z_lr*(y_lr - y_or)*(z_cl - z_p)/(z_cl*(z_lr - z_or)**2)"
      ]
     },
     "execution_count": 27,
     "metadata": {},
     "output_type": "execute_result"
    }
   ],
   "source": [
    "# Partial derivative of y coordinate of the red \"right\" PLO image with respect to z_or\n",
    "factor(simplify(cancel(diff(Irrmat[1,0],pr3))))"
   ]
  },
  {
   "cell_type": "markdown",
   "metadata": {},
   "source": [
    "### Summary of Sensitivity Analysis\n",
    "\n",
    "A short distance between point like object and screen plane causing the sensitivity to go higher. The closer the camera relative to the screen, indicated by $z_{cl}$, the higher the sensitivity of system. A long focal distance, $z_{cl}-z_{p}$, makes the sensitivity goes higher too. The farther the light sources from the screen, the higher the sensitivity. Moving the blue and the red light source position, respectively ($x_{lb}$, $y_{lb}$, $z_{lb}$) and ($x_{lb}$, $y_{lb}$, $z_{lb}$), farther from the point-like object position causing the sensitivity to go higher.\n",
    "\n",
    "We notice that the partial derivative of left PLO image coordinates with relative to coordinates of right PLO are always zero. Thus, the left PLO image is insensitive to the position change of the right PLO. This kind of observation also applies in the right PLO image.\n",
    "\n",
    "**Relation with other design requirement**\n",
    "\n",
    "All the sensitivities above seem to require us to bring the object and the camera closer to the screen. However, if we bring the camera closer to the screen, the camera field of view becomes smaller (the screen will practically become smaller or the same size as the camera sensor). Thus, the object dimension that can be detected becomes smaller.\n",
    "\n",
    "Therefore, the ideal solution for gaining high sensitivities is to move the light sources farther from the screen and bring the object closer to the light sources (for instance make the $z_{lb}-z_{ol}$ smaller). Another fascinating insight from this solution is that non-point-like light sources effectively become point-like light sources as we move the light source far from the camera sensor. Advantage of this particular set-up is the image would be less blurred (non-point-like lightsources may cause image blurring)."
   ]
  }
 ],
 "metadata": {
  "kernelspec": {
   "display_name": "Python 3",
   "language": "python",
   "name": "python3"
  },
  "language_info": {
   "codemirror_mode": {
    "name": "ipython",
    "version": 3
   },
   "file_extension": ".py",
   "mimetype": "text/x-python",
   "name": "python",
   "nbconvert_exporter": "python",
   "pygments_lexer": "ipython3",
   "version": "3.9.4"
  }
 },
 "nbformat": 4,
 "nbformat_minor": 4
}
