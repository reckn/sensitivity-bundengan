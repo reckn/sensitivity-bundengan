{
 "cells": [
  {
   "cell_type": "markdown",
   "metadata": {},
   "source": [
    "## Nomenclature\n",
    "\n",
    "- x: position in x axis of cartesian coordinates\n",
    "- y: position in y axis of cartesian coordinates\n",
    "- z: position in z axis of cartesian coordinates\n",
    "\n",
    "**Abbreviation**\n",
    "- PLO: Point Like Object\n",
    "- sb: Blue Shadow on the screen\n",
    "- sr: Red Shadow on the screen\n",
    "- ib: Blue Image on the sensor\n",
    "- ir: Red Image on the sensor\n",
    "\n",
    "**Subscript**\n",
    "- lb: blue light\n",
    "- lr: red light\n",
    "- op: PLO\n",
    "- cl: lens centre\n",
    "- p:  sensor plane"
   ]
  },
  {
   "cell_type": "code",
   "execution_count": 1,
   "metadata": {},
   "outputs": [],
   "source": [
    "#Import the libraries\n",
    "from sympy import *\n",
    "from sympy.vector import CoordSys3D\n",
    "\n",
    "#The origin of the system\n",
    "Sys = CoordSys3D('Sys')\n",
    "O = Sys.origin\n",
    "\n",
    "#======================\n",
    "# Define position point\n",
    "#======================\n",
    "\n",
    "## Objects\n",
    "### Blue light source\n",
    "b1, b2, b3 = symbols('x_lb y_lb z_lb')\n",
    "B = O.locate_new('B', b1*Sys.i + b2*Sys.j + b3*Sys.k)\n",
    "### Red light source\n",
    "r1, r2, r3 = symbols('x_lr y_lr z_lr')\n",
    "R = O.locate_new('R', r1*Sys.i + r2*Sys.j + r3*Sys.k)\n",
    "### Point-like object\n",
    "p1, p2, p3 = symbols('x_op y_op z_op')\n",
    "P = O.locate_new('P', p1*Sys.i + p2*Sys.j + p3*Sys.k)\n",
    "\n",
    "## Camera focal point\n",
    "f1, f2, f3 = symbols('x_cl y_cl z_cl')\n",
    "focalpt = O.locate_new('focalpt', f1*Sys.i + f2*Sys.j + f3*Sys.k)\n",
    "\n",
    "## Three non-colinear points (represent the plane corners)\n",
    "### Screen plane (z coordinate always zero)\n",
    "#### Alpha\n",
    "alpha1, alpha2 = symbols(r'x_\\alpha y_\\alpha')\n",
    "Alpha = O.locate_new('Alpha', alpha1*Sys.i + alpha2*Sys.j + 0*Sys.k)\n",
    "#### Beta\n",
    "beta1, beta2 = symbols(r'x_\\beta y_\\beta')\n",
    "Beta = O.locate_new('Beta', beta1*Sys.i + beta2*Sys.j + 0*Sys.k)\n",
    "#### Gamma\n",
    "gamma1, gamma2 = symbols(r'x_\\gamma y_\\gamma')\n",
    "Gamma = O.locate_new('Gamma', gamma1*Sys.i + gamma2*Sys.j + 0*Sys.k)\n",
    "\n",
    "### Sensor plane\n",
    "Z = symbols('z_p') # The distance from the screen plane to sensor plane\n",
    "#### Delta\n",
    "delta1, delta2 = symbols(r'x_\\delta y_\\delta')\n",
    "Delta = O.locate_new('Delta', delta1*Sys.i + delta2*Sys.j + Z*Sys.k)\n",
    "#### Epsilon\n",
    "epsilon1, epsilon2 = symbols(r'x_\\epsilon y_\\epsilon')\n",
    "Epsilon = O.locate_new('Epsilon', epsilon1*Sys.i + epsilon2*Sys.j + Z*Sys.k)\n",
    "#### Zeta\n",
    "zeta1, zeta2 = symbols(r'x_\\zeta y_\\zeta')\n",
    "Zeta = O.locate_new('Zeta', zeta1*Sys.i + zeta2*Sys.j + Z*Sys.k)\n",
    "\n",
    "#============================================\n",
    "# Define position vector (relative to origin)\n",
    "#============================================\n",
    "# X.position_wrt(Y): The position of X with relative to Y\n",
    "\n",
    "## Objects\n",
    "### Blue light source\n",
    "oB = B.position_wrt(O)\n",
    "### Red light source\n",
    "oR = R.position_wrt(O)\n",
    "### Point-like object\n",
    "oP = P.position_wrt(O)\n",
    "\n",
    "## Camera focal point\n",
    "ofocalpt = focalpt.position_wrt(O)\n",
    "\n",
    "## Three non-colinear points\n",
    "### Screen plane\n",
    "oAlpha = Alpha.position_wrt(O)\n",
    "oBeta = Beta.position_wrt(O)\n",
    "oGamma = Gamma.position_wrt(O)\n",
    "### Sensor plane\n",
    "oDelta = Delta.position_wrt(O)\n",
    "oEpsilon = Epsilon.position_wrt(O)\n",
    "oZeta = Zeta.position_wrt(O)\n",
    "\n",
    "#==============================\n",
    "# Normal vectors of the planes\n",
    "#==============================\n",
    "\n",
    "## Screen plane\n",
    "N1 = (oAlpha-oBeta).cross(oGamma-oBeta)\n",
    "## Sensor plane\n",
    "N2 = (oDelta-oEpsilon).cross(oZeta-oEpsilon)\n",
    "\n",
    "#====================================\n",
    "# Intersection vectors on the planes\n",
    "#====================================\n",
    "\n",
    "## Shadows on the screen plane\n",
    "### Blue shadow\n",
    "Sb = oB + (N1.dot(oB-oBeta)/N1.dot(oB-oP))*(oP-oB)\n",
    "### Red shadow\n",
    "Sr = oR + (N1.dot(oR-oBeta)/N1.dot(oR-oP))*(oP-oR)\n",
    "\n",
    "## Images on the sensor plane\n",
    "### Blue image\n",
    "Ib = Sb + (N2.dot(Sb-oEpsilon)/N2.dot(Sb-ofocalpt))*(ofocalpt-Sb)\n",
    "### Red Image\n",
    "Ir = Sr + (N2.dot(Sr-oEpsilon)/N2.dot(Sr-ofocalpt))*(ofocalpt-Sr)\n",
    "\n",
    "#===============================\n",
    "# Convert vector in matrix form\n",
    "#===============================\n",
    "\n",
    "## Shadows\n",
    "Sbmat = Sb.to_matrix(Sys)\n",
    "Srmat = Sr.to_matrix(Sys)\n",
    "\n",
    "## Images\n",
    "Ibmat = Ib.to_matrix(Sys)\n",
    "Irmat = Ir.to_matrix(Sys)"
   ]
  },
  {
   "cell_type": "markdown",
   "metadata": {},
   "source": [
    "## Validity Test"
   ]
  },
  {
   "cell_type": "code",
   "execution_count": 2,
   "metadata": {},
   "outputs": [
    {
     "data": {
      "text/latex": [
       "$\\displaystyle z_{p}$"
      ],
      "text/plain": [
       "z_p"
      ]
     },
     "execution_count": 2,
     "metadata": {},
     "output_type": "execute_result"
    }
   ],
   "source": [
    "# Sensor plane is parallel to screen plane. \n",
    "# Thus, the z coordinate of the red and blue images always at z_p.\n",
    "\n",
    "cancel(Ibmat[2,0]) # Cancel is a sympy function to simplify an expression.\n",
    "\n",
    "# The ImmutableDenseMatrix of Ibmat has row and coloumn represented as Ibmat[row, coloumn]\n",
    "# Ibmat[0,0] we access the x coordinate of the blue image.\n",
    "# Ibmat[1,0] we access the y coordinate of the blue image.\n",
    "# Ibmat[2,0] we access the z coordinate of the blue image."
   ]
  },
  {
   "cell_type": "code",
   "execution_count": 3,
   "metadata": {},
   "outputs": [
    {
     "data": {
      "text/latex": [
       "$\\displaystyle \\mathbf{\\hat{0}}$"
      ],
      "text/plain": [
       "0"
      ]
     },
     "execution_count": 3,
     "metadata": {},
     "output_type": "execute_result"
    }
   ],
   "source": [
    "N1.cross(N2) \n",
    "\n",
    "# The cross product of two normal vectors is zero.\n",
    "# It implies that the angle between two normal vectors is 0 or multiplies of pi.\n",
    "# Thus, the plane is parallel."
   ]
  },
  {
   "cell_type": "markdown",
   "metadata": {},
   "source": [
    "## Calculation Results"
   ]
  },
  {
   "cell_type": "code",
   "execution_count": 4,
   "metadata": {},
   "outputs": [
    {
     "data": {
      "text/latex": [
       "$\\displaystyle \\left[\\begin{matrix}x_{lb} + \\frac{z_{lb} \\left(- x_{lb} + x_{op}\\right)}{z_{lb} - z_{op}} + \\frac{\\left(x_{cl} - x_{lb} - \\frac{z_{lb} \\left(- x_{lb} + x_{op}\\right)}{z_{lb} - z_{op}}\\right) \\left(\\frac{z_{lb} \\left(- z_{lb} + z_{op}\\right)}{z_{lb} - z_{op}} + z_{lb} - z_{p}\\right)}{- z_{cl} + \\frac{z_{lb} \\left(- z_{lb} + z_{op}\\right)}{z_{lb} - z_{op}} + z_{lb}}\\\\y_{lb} + \\frac{z_{lb} \\left(- y_{lb} + y_{op}\\right)}{z_{lb} - z_{op}} + \\frac{\\left(y_{cl} - y_{lb} - \\frac{z_{lb} \\left(- y_{lb} + y_{op}\\right)}{z_{lb} - z_{op}}\\right) \\left(\\frac{z_{lb} \\left(- z_{lb} + z_{op}\\right)}{z_{lb} - z_{op}} + z_{lb} - z_{p}\\right)}{- z_{cl} + \\frac{z_{lb} \\left(- z_{lb} + z_{op}\\right)}{z_{lb} - z_{op}} + z_{lb}}\\\\\\frac{z_{lb} \\left(- z_{lb} + z_{op}\\right)}{z_{lb} - z_{op}} + z_{lb} + \\frac{\\left(z_{cl} - \\frac{z_{lb} \\left(- z_{lb} + z_{op}\\right)}{z_{lb} - z_{op}} - z_{lb}\\right) \\left(\\frac{z_{lb} \\left(- z_{lb} + z_{op}\\right)}{z_{lb} - z_{op}} + z_{lb} - z_{p}\\right)}{- z_{cl} + \\frac{z_{lb} \\left(- z_{lb} + z_{op}\\right)}{z_{lb} - z_{op}} + z_{lb}}\\end{matrix}\\right]$"
      ],
      "text/plain": [
       "Matrix([\n",
       "[x_lb + z_lb*(-x_lb + x_op)/(z_lb - z_op) + (x_cl - x_lb - z_lb*(-x_lb + x_op)/(z_lb - z_op))*(z_lb*(-z_lb + z_op)/(z_lb - z_op) + z_lb - z_p)/(-z_cl + z_lb*(-z_lb + z_op)/(z_lb - z_op) + z_lb)],\n",
       "[y_lb + z_lb*(-y_lb + y_op)/(z_lb - z_op) + (y_cl - y_lb - z_lb*(-y_lb + y_op)/(z_lb - z_op))*(z_lb*(-z_lb + z_op)/(z_lb - z_op) + z_lb - z_p)/(-z_cl + z_lb*(-z_lb + z_op)/(z_lb - z_op) + z_lb)],\n",
       "[z_lb*(-z_lb + z_op)/(z_lb - z_op) + z_lb + (z_cl - z_lb*(-z_lb + z_op)/(z_lb - z_op) - z_lb)*(z_lb*(-z_lb + z_op)/(z_lb - z_op) + z_lb - z_p)/(-z_cl + z_lb*(-z_lb + z_op)/(z_lb - z_op) + z_lb)]])"
      ]
     },
     "execution_count": 4,
     "metadata": {},
     "output_type": "execute_result"
    }
   ],
   "source": [
    "# Show the Ibmat matrix, i.e. the coordinates of blue image\n",
    "Ibmat"
   ]
  },
  {
   "cell_type": "code",
   "execution_count": 18,
   "metadata": {},
   "outputs": [
    {
     "data": {
      "text/latex": [
       "$\\displaystyle \\left[\\begin{matrix}x_{lb} + \\frac{z_{lb} \\left(- x_{lb} + x_{op}\\right)}{z_{lb} - z_{op}}\\\\y_{lb} + \\frac{z_{lb} \\left(- y_{lb} + y_{op}\\right)}{z_{lb} - z_{op}}\\\\\\frac{z_{lb} \\left(- z_{lb} + z_{op}\\right)}{z_{lb} - z_{op}} + z_{lb}\\end{matrix}\\right]$"
      ],
      "text/plain": [
       "Matrix([\n",
       "[x_lb + z_lb*(-x_lb + x_op)/(z_lb - z_op)],\n",
       "[y_lb + z_lb*(-y_lb + y_op)/(z_lb - z_op)],\n",
       "[z_lb*(-z_lb + z_op)/(z_lb - z_op) + z_lb]])"
      ]
     },
     "execution_count": 18,
     "metadata": {},
     "output_type": "execute_result"
    }
   ],
   "source": [
    "Sbmat"
   ]
  },
  {
   "cell_type": "code",
   "execution_count": 5,
   "metadata": {},
   "outputs": [
    {
     "data": {
      "text/latex": [
       "$\\displaystyle \\left[\\begin{matrix}\\frac{x_{cl} z_{lb} z_{p} - x_{cl} z_{op} z_{p} - x_{lb} z_{cl} z_{op} + x_{lb} z_{op} z_{p} + x_{op} z_{cl} z_{lb} - x_{op} z_{lb} z_{p}}{z_{cl} z_{lb} - z_{cl} z_{op}}\\\\\\frac{y_{cl} z_{lb} z_{p} - y_{cl} z_{op} z_{p} - y_{lb} z_{cl} z_{op} + y_{lb} z_{op} z_{p} + y_{op} z_{cl} z_{lb} - y_{op} z_{lb} z_{p}}{z_{cl} z_{lb} - z_{cl} z_{op}}\\\\z_{p}\\end{matrix}\\right]$"
      ],
      "text/plain": [
       "Matrix([\n",
       "[(x_cl*z_lb*z_p - x_cl*z_op*z_p - x_lb*z_cl*z_op + x_lb*z_op*z_p + x_op*z_cl*z_lb - x_op*z_lb*z_p)/(z_cl*z_lb - z_cl*z_op)],\n",
       "[(y_cl*z_lb*z_p - y_cl*z_op*z_p - y_lb*z_cl*z_op + y_lb*z_op*z_p + y_op*z_cl*z_lb - y_op*z_lb*z_p)/(z_cl*z_lb - z_cl*z_op)],\n",
       "[                                                                                                                      z_p]])"
      ]
     },
     "execution_count": 5,
     "metadata": {},
     "output_type": "execute_result"
    }
   ],
   "source": [
    "cancel(Ibmat)"
   ]
  },
  {
   "cell_type": "code",
   "execution_count": 6,
   "metadata": {},
   "outputs": [
    {
     "data": {
      "text/latex": [
       "$\\displaystyle \\left[\\begin{matrix}x_{lr} + \\frac{z_{lr} \\left(- x_{lr} + x_{op}\\right)}{z_{lr} - z_{op}} + \\frac{\\left(x_{cl} - x_{lr} - \\frac{z_{lr} \\left(- x_{lr} + x_{op}\\right)}{z_{lr} - z_{op}}\\right) \\left(\\frac{z_{lr} \\left(- z_{lr} + z_{op}\\right)}{z_{lr} - z_{op}} + z_{lr} - z_{p}\\right)}{- z_{cl} + \\frac{z_{lr} \\left(- z_{lr} + z_{op}\\right)}{z_{lr} - z_{op}} + z_{lr}}\\\\y_{lr} + \\frac{z_{lr} \\left(- y_{lr} + y_{op}\\right)}{z_{lr} - z_{op}} + \\frac{\\left(y_{cl} - y_{lr} - \\frac{z_{lr} \\left(- y_{lr} + y_{op}\\right)}{z_{lr} - z_{op}}\\right) \\left(\\frac{z_{lr} \\left(- z_{lr} + z_{op}\\right)}{z_{lr} - z_{op}} + z_{lr} - z_{p}\\right)}{- z_{cl} + \\frac{z_{lr} \\left(- z_{lr} + z_{op}\\right)}{z_{lr} - z_{op}} + z_{lr}}\\\\\\frac{z_{lr} \\left(- z_{lr} + z_{op}\\right)}{z_{lr} - z_{op}} + z_{lr} + \\frac{\\left(z_{cl} - \\frac{z_{lr} \\left(- z_{lr} + z_{op}\\right)}{z_{lr} - z_{op}} - z_{lr}\\right) \\left(\\frac{z_{lr} \\left(- z_{lr} + z_{op}\\right)}{z_{lr} - z_{op}} + z_{lr} - z_{p}\\right)}{- z_{cl} + \\frac{z_{lr} \\left(- z_{lr} + z_{op}\\right)}{z_{lr} - z_{op}} + z_{lr}}\\end{matrix}\\right]$"
      ],
      "text/plain": [
       "Matrix([\n",
       "[x_lr + z_lr*(-x_lr + x_op)/(z_lr - z_op) + (x_cl - x_lr - z_lr*(-x_lr + x_op)/(z_lr - z_op))*(z_lr*(-z_lr + z_op)/(z_lr - z_op) + z_lr - z_p)/(-z_cl + z_lr*(-z_lr + z_op)/(z_lr - z_op) + z_lr)],\n",
       "[y_lr + z_lr*(-y_lr + y_op)/(z_lr - z_op) + (y_cl - y_lr - z_lr*(-y_lr + y_op)/(z_lr - z_op))*(z_lr*(-z_lr + z_op)/(z_lr - z_op) + z_lr - z_p)/(-z_cl + z_lr*(-z_lr + z_op)/(z_lr - z_op) + z_lr)],\n",
       "[z_lr*(-z_lr + z_op)/(z_lr - z_op) + z_lr + (z_cl - z_lr*(-z_lr + z_op)/(z_lr - z_op) - z_lr)*(z_lr*(-z_lr + z_op)/(z_lr - z_op) + z_lr - z_p)/(-z_cl + z_lr*(-z_lr + z_op)/(z_lr - z_op) + z_lr)]])"
      ]
     },
     "execution_count": 6,
     "metadata": {},
     "output_type": "execute_result"
    }
   ],
   "source": [
    "# Show the Irmat matrix, i.e. the coordinates of red image\n",
    "Irmat"
   ]
  },
  {
   "cell_type": "code",
   "execution_count": 7,
   "metadata": {},
   "outputs": [
    {
     "data": {
      "text/latex": [
       "$\\displaystyle \\left[\\begin{matrix}\\frac{x_{cl} z_{lr} z_{p} - x_{cl} z_{op} z_{p} - x_{lr} z_{cl} z_{op} + x_{lr} z_{op} z_{p} + x_{op} z_{cl} z_{lr} - x_{op} z_{lr} z_{p}}{z_{cl} \\left(z_{lr} - z_{op}\\right)}\\\\\\frac{y_{cl} z_{lr} z_{p} - y_{cl} z_{op} z_{p} - y_{lr} z_{cl} z_{op} + y_{lr} z_{op} z_{p} + y_{op} z_{cl} z_{lr} - y_{op} z_{lr} z_{p}}{z_{cl} \\left(z_{lr} - z_{op}\\right)}\\\\z_{p}\\end{matrix}\\right]$"
      ],
      "text/plain": [
       "Matrix([\n",
       "[(x_cl*z_lr*z_p - x_cl*z_op*z_p - x_lr*z_cl*z_op + x_lr*z_op*z_p + x_op*z_cl*z_lr - x_op*z_lr*z_p)/(z_cl*(z_lr - z_op))],\n",
       "[(y_cl*z_lr*z_p - y_cl*z_op*z_p - y_lr*z_cl*z_op + y_lr*z_op*z_p + y_op*z_cl*z_lr - y_op*z_lr*z_p)/(z_cl*(z_lr - z_op))],\n",
       "[                                                                                                                   z_p]])"
      ]
     },
     "execution_count": 7,
     "metadata": {},
     "output_type": "execute_result"
    }
   ],
   "source": [
    "factor(simplify(cancel(Irmat)))"
   ]
  },
  {
   "cell_type": "markdown",
   "metadata": {},
   "source": [
    "## Sensitivity Analysis"
   ]
  },
  {
   "cell_type": "markdown",
   "metadata": {},
   "source": [
    "### The calculation of Sensitivity using Partial Derivative"
   ]
  },
  {
   "cell_type": "code",
   "execution_count": 8,
   "metadata": {
    "scrolled": false
   },
   "outputs": [
    {
     "name": "stdout",
     "output_type": "stream",
     "text": [
      "Partial derivative of x_ib\n",
      ":\n",
      "---> with respect to x_op is: \n",
      "     z_lb*(z_cl - z_p)/(z_cl*(z_lb - z_op))\n",
      ":\n",
      "---> with respect to y_op is: \n",
      "     0\n",
      ":\n",
      "---> with respect to z_op is: \n",
      "     -z_lb*(x_lb - x_op)*(z_cl - z_p)/(z_cl*(z_lb - z_op)**2)\n",
      "\n",
      "\n",
      "Partial derivative of y_ib\n",
      ":\n",
      "---> with respect to x_op is: \n",
      "     0\n",
      ":\n",
      "---> with respect to y_op is: \n",
      "     z_lb*(z_cl - z_p)/(z_cl*(z_lb - z_op))\n",
      ":\n",
      "---> with respect to z_op is: \n",
      "     -z_lb*(y_lb - y_op)*(z_cl - z_p)/(z_cl*(z_lb - z_op)**2)\n",
      "\n",
      "\n",
      "Partial derivative of z_ib\n",
      ":\n",
      "---> with respect to x_op is: \n",
      "     0\n",
      ":\n",
      "---> with respect to y_op is: \n",
      "     0\n",
      ":\n",
      "---> with respect to z_op is: \n",
      "     0\n",
      "\n",
      "\n"
     ]
    }
   ],
   "source": [
    "# Sensitivity analysis for Ibmat matrix (blue image)\n",
    "\n",
    "xib, yib, zib = symbols('x_ib y_ib z_ib')\n",
    "coordinates_output = [xib, yib, zib]\n",
    "coordinates_input = [p1, p2, p3]\n",
    "\n",
    "for i in range(0,len(coordinates_output)):\n",
    "    print(\"Partial derivative of\",coordinates_output[i])\n",
    "    for p in coordinates_input:\n",
    "        Dp = factor(simplify(cancel(diff(Ibmat[i,0],p))))\n",
    "        print(\":\")\n",
    "        print(\"--->\",\"with respect to\",p,\"is:\",\"\\n\",\"   \",Dp)\n",
    "    print()\n",
    "    print()\n",
    "        \n",
    "# Factor, simplify, and cancel is sympy function for simplificating an expression."
   ]
  },
  {
   "cell_type": "code",
   "execution_count": 9,
   "metadata": {},
   "outputs": [
    {
     "name": "stdout",
     "output_type": "stream",
     "text": [
      "Partial derivative of x_ir\n",
      ":\n",
      "---> with respect to x_op is: \n",
      "     z_lr*(z_cl - z_p)/(z_cl*(z_lr - z_op))\n",
      ":\n",
      "---> with respect to y_op is: \n",
      "     0\n",
      ":\n",
      "---> with respect to z_op is: \n",
      "     -z_lr*(x_lr - x_op)*(z_cl - z_p)/(z_cl*(z_lr - z_op)**2)\n",
      "\n",
      "\n",
      "Partial derivative of y_ir\n",
      ":\n",
      "---> with respect to x_op is: \n",
      "     0\n",
      ":\n",
      "---> with respect to y_op is: \n",
      "     z_lr*(z_cl - z_p)/(z_cl*(z_lr - z_op))\n",
      ":\n",
      "---> with respect to z_op is: \n",
      "     -z_lr*(y_lr - y_op)*(z_cl - z_p)/(z_cl*(z_lr - z_op)**2)\n",
      "\n",
      "\n",
      "Partial derivative of z_ir\n",
      ":\n",
      "---> with respect to x_op is: \n",
      "     0\n",
      ":\n",
      "---> with respect to y_op is: \n",
      "     0\n",
      ":\n",
      "---> with respect to z_op is: \n",
      "     0\n",
      "\n",
      "\n"
     ]
    }
   ],
   "source": [
    "# Sensitivity analysis for Irmat matrix (red image)\n",
    "\n",
    "xir, yir, zir = symbols('x_ir y_ir z_ir')\n",
    "coordinates_output = [xir, yir, zir]\n",
    "coordinates_input = [p1, p2, p3]\n",
    "\n",
    "for i in range(0,len(coordinates_output)):\n",
    "    print(\"Partial derivative of\",coordinates_output[i])\n",
    "    for p in coordinates_input:\n",
    "        Dp = factor(simplify(cancel(diff(Irmat[i,0],p))))\n",
    "        print(\":\")\n",
    "        print(\"--->\",\"with respect to\",p,\"is:\",\"\\n\",\"   \",Dp)\n",
    "    print()\n",
    "    print()"
   ]
  },
  {
   "cell_type": "markdown",
   "metadata": {},
   "source": [
    "### Identical Sensitivity Equation"
   ]
  },
  {
   "cell_type": "markdown",
   "metadata": {},
   "source": [
    "Suppose, $(x_{ib},y_{ib})$ is the coordinates of the blue image, $(x_{ir},y_{ir})$ is the coordinates of the red image, and $(x_{op},y_{op})$ is the coordinates of the point-like object.\n",
    "\n",
    "The sensitivity equation $\\frac{\\partial{x_{ib}}}{\\partial{x_{op}}}$ and $\\frac{\\partial{y_{ib}}}{\\partial{y_{op}}}$ is identic."
   ]
  },
  {
   "cell_type": "code",
   "execution_count": 10,
   "metadata": {},
   "outputs": [
    {
     "data": {
      "text/plain": [
       "True"
      ]
     },
     "execution_count": 10,
     "metadata": {},
     "output_type": "execute_result"
    }
   ],
   "source": [
    "# Prove\n",
    "diff(Ibmat[0,0],p1) == diff(Ibmat[1,0],p2)"
   ]
  },
  {
   "cell_type": "markdown",
   "metadata": {},
   "source": [
    "The sensitivity equation $\\frac{\\partial{x_{ir}}}{\\partial{x_{op}}}$ and $\\frac{\\partial{y_{ir}}}{\\partial{y_{op}}}$ is identic."
   ]
  },
  {
   "cell_type": "code",
   "execution_count": 11,
   "metadata": {},
   "outputs": [
    {
     "data": {
      "text/plain": [
       "True"
      ]
     },
     "execution_count": 11,
     "metadata": {},
     "output_type": "execute_result"
    }
   ],
   "source": [
    "# Prove\n",
    "diff(Irmat[0,0],p1) == diff(Irmat[1,0],p2)"
   ]
  },
  {
   "cell_type": "markdown",
   "metadata": {},
   "source": [
    "### Unique Sensitivity Equation\n",
    "\n",
    "Sensitivity of the z coordinate of the red and the blue image is always zero and we have total 6 unique sensitivity equation. "
   ]
  },
  {
   "cell_type": "code",
   "execution_count": 12,
   "metadata": {},
   "outputs": [
    {
     "data": {
      "text/latex": [
       "$\\displaystyle \\frac{z_{lb} \\left(z_{cl} - z_{p}\\right)}{z_{cl} \\left(z_{lb} - z_{op}\\right)}$"
      ],
      "text/plain": [
       "z_lb*(z_cl - z_p)/(z_cl*(z_lb - z_op))"
      ]
     },
     "execution_count": 12,
     "metadata": {},
     "output_type": "execute_result"
    }
   ],
   "source": [
    "# Partial derivative of x coordinate of the blue image with respect to x_op\n",
    "factor(simplify(cancel(diff(Ibmat[0,0],p1))))\n",
    "\n",
    "# This equation is identical to partial derivative of y coordinate of the blue image with respect to y_op.\n",
    "# See the prove in identical sensitivity equation subsection. Otherwise, check in the sensitivity calculation."
   ]
  },
  {
   "cell_type": "markdown",
   "metadata": {},
   "source": [
    "**Interpretation**: Small $z_{op}$ (distance of point like object with relative to screen plane) causing the sensitivity to go higher. The closer the camera to the screen, the higher the sensitivity is. Longer focal distance makes this particular sensitivity goes higher. The farther the blue light source from the screen, the higher the sensitivity."
   ]
  },
  {
   "cell_type": "code",
   "execution_count": 13,
   "metadata": {},
   "outputs": [
    {
     "data": {
      "text/latex": [
       "$\\displaystyle - \\frac{z_{lb} \\left(x_{lb} - x_{op}\\right) \\left(z_{cl} - z_{p}\\right)}{z_{cl} \\left(z_{lb} - z_{op}\\right)^{2}}$"
      ],
      "text/plain": [
       "-z_lb*(x_lb - x_op)*(z_cl - z_p)/(z_cl*(z_lb - z_op)**2)"
      ]
     },
     "execution_count": 13,
     "metadata": {},
     "output_type": "execute_result"
    }
   ],
   "source": [
    "# Partial derivative of x coordinate of the blue image with respect to z_op\n",
    "factor(simplify(cancel(diff(Ibmat[0,0],p3))))"
   ]
  },
  {
   "cell_type": "markdown",
   "metadata": {},
   "source": [
    "**Interpretation**: Same as above, with additional condition: increase the $x_{lb}$ with relative to $x_{op}$ causing the sensitivity to go higher."
   ]
  },
  {
   "cell_type": "markdown",
   "metadata": {},
   "source": [
    "*For all of the sensitivity equation below, we will combine the interpretation in one summary.*"
   ]
  },
  {
   "cell_type": "code",
   "execution_count": 14,
   "metadata": {},
   "outputs": [
    {
     "data": {
      "text/latex": [
       "$\\displaystyle - \\frac{z_{lb} \\left(y_{lb} - y_{op}\\right) \\left(z_{cl} - z_{p}\\right)}{z_{cl} \\left(z_{lb} - z_{op}\\right)^{2}}$"
      ],
      "text/plain": [
       "-z_lb*(y_lb - y_op)*(z_cl - z_p)/(z_cl*(z_lb - z_op)**2)"
      ]
     },
     "execution_count": 14,
     "metadata": {},
     "output_type": "execute_result"
    }
   ],
   "source": [
    "# Partial derivative of y coordinate of the blue image with respect to z_op\n",
    "factor(simplify(cancel(diff(Ibmat[1,0],p3))))"
   ]
  },
  {
   "cell_type": "code",
   "execution_count": 15,
   "metadata": {},
   "outputs": [
    {
     "data": {
      "text/latex": [
       "$\\displaystyle \\frac{z_{lr} \\left(z_{cl} - z_{p}\\right)}{z_{cl} \\left(z_{lr} - z_{op}\\right)}$"
      ],
      "text/plain": [
       "z_lr*(z_cl - z_p)/(z_cl*(z_lr - z_op))"
      ]
     },
     "execution_count": 15,
     "metadata": {},
     "output_type": "execute_result"
    }
   ],
   "source": [
    "# Partial derivative of x coordinate of the red image with respect to x_op\n",
    "factor(simplify(cancel(diff(Irmat[0,0],p1))))"
   ]
  },
  {
   "cell_type": "code",
   "execution_count": 16,
   "metadata": {},
   "outputs": [
    {
     "data": {
      "text/latex": [
       "$\\displaystyle - \\frac{z_{lr} \\left(x_{lr} - x_{op}\\right) \\left(z_{cl} - z_{p}\\right)}{z_{cl} \\left(z_{lr} - z_{op}\\right)^{2}}$"
      ],
      "text/plain": [
       "-z_lr*(x_lr - x_op)*(z_cl - z_p)/(z_cl*(z_lr - z_op)**2)"
      ]
     },
     "execution_count": 16,
     "metadata": {},
     "output_type": "execute_result"
    }
   ],
   "source": [
    "# Partial derivative of x coordinate of the red image with respect to z_op\n",
    "factor(simplify(cancel(diff(Irmat[0,0],p3))))"
   ]
  },
  {
   "cell_type": "code",
   "execution_count": 17,
   "metadata": {},
   "outputs": [
    {
     "data": {
      "text/latex": [
       "$\\displaystyle - \\frac{z_{lr} \\left(y_{lr} - y_{op}\\right) \\left(z_{cl} - z_{p}\\right)}{z_{cl} \\left(z_{lr} - z_{op}\\right)^{2}}$"
      ],
      "text/plain": [
       "-z_lr*(y_lr - y_op)*(z_cl - z_p)/(z_cl*(z_lr - z_op)**2)"
      ]
     },
     "execution_count": 17,
     "metadata": {},
     "output_type": "execute_result"
    }
   ],
   "source": [
    "# Partial derivative of y coordinate of the red image with respect to z_op\n",
    "factor(simplify(cancel(diff(Irmat[1,0],p3))))"
   ]
  },
  {
   "cell_type": "markdown",
   "metadata": {},
   "source": [
    "### Summary of Sensitivity Analysis\n",
    "\n",
    "A small $z_{op}$ (distance of point like object with relative to screen plane) causing the sensitivity to go higher. The closer the camera relative to the screen, indicated by $z_{cl}$, the higher the sensitivity of system. A long focal distance, $z_{cl}-z_{p}$, makes the sensitivity goes higher. The farther the light sources from the screen, the higher the sensitivity. Moving the blue and the red light source position, respectively ($x_{lb}$, $y_{lb}$, $z_{lb}$) and ($x_{lb}$, $y_{lb}$, $z_{lb}$), farther from the point-like object position $x_{op}, y_{op}, z_{op}$ causing the sensitivity to go higher.\n",
    "\n",
    "**Relation with other design requirement**\n",
    "\n",
    "All the sensitivities above seem to require us to bring the object and the camera closer to the screen. However, if we bring the camera closer to the screen, the camera field of view becomes smaller (the screen will practically become smaller or the same size as the camera sensor). Thus, the object dimension that can be detected becomes smaller.\n",
    "\n",
    "Therefore, the ideal solution for gaining high sensitivities is to move the light sources farther from the screen and bring the object closer to the light sources (for instance make the $z_{lb}-z_{ol}$ smaller). Another fascinating insight from this solution is that non-point-like light sources effectively become point-like light sources as we move the light source far from the camera sensor. Advantage of this particular set-up is the image would be less blurred (non-point-like lightsources may cause image blurring)."
   ]
  }
 ],
 "metadata": {
  "kernelspec": {
   "display_name": "Python 3",
   "language": "python",
   "name": "python3"
  },
  "language_info": {
   "codemirror_mode": {
    "name": "ipython",
    "version": 3
   },
   "file_extension": ".py",
   "mimetype": "text/x-python",
   "name": "python",
   "nbconvert_exporter": "python",
   "pygments_lexer": "ipython3",
   "version": "3.9.4"
  }
 },
 "nbformat": 4,
 "nbformat_minor": 4
}
